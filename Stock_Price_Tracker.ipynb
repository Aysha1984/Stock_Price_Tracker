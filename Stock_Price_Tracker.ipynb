{
  "nbformat": 4,
  "nbformat_minor": 0,
  "metadata": {
    "colab": {
      "provenance": []
    },
    "kernelspec": {
      "name": "python3",
      "display_name": "Python 3"
    },
    "language_info": {
      "name": "python"
    }
  },
  "cells": [
    {
      "cell_type": "code",
      "source": [
        "import yfinance as yf\n",
        "import pandas as pd\n",
        "import time\n",
        "\n",
        "# Define the function to fetch stock data\n",
        "def fetch_stock_data(ticker):\n",
        "    try:\n",
        "        stock = yf.Ticker(ticker)\n",
        "        data = stock.history(period=\"1d\", interval=\"1m\")\n",
        "        return data\n",
        "    except Exception as e:\n",
        "        print(f\"Error fetching data for {ticker}: {e}\")\n",
        "        return None\n",
        "\n",
        "# Save stock data to a CSV file\n",
        "def save_data_to_csv(data, filename):\n",
        "    try:\n",
        "        data.to_csv(filename, mode='a', header=not pd.io.common.file_exists(filename))\n",
        "        print(f\"Data saved to {filename}\")\n",
        "    except Exception as e:\n",
        "        print(f\"Error saving data to {filename}: {e}\")\n",
        "\n",
        "# Main function to track stock prices\n",
        "def stock_price_tracker(ticker, filename, interval=60):\n",
        "    while True:\n",
        "        print(f\"Fetching data for {ticker}...\")\n",
        "        stock_data = fetch_stock_data(ticker)\n",
        "\n",
        "        if stock_data is not None:\n",
        "            save_data_to_csv(stock_data, filename)\n",
        "\n",
        "        print(f\"Waiting for {interval} seconds...\")\n",
        "        time.sleep(interval)\n",
        "\n",
        "# Example usage\n",
        "if __name__ == \"__main__\":\n",
        "    stock_symbol = input(\"Enter the stock ticker symbol (e.g., AAPL for Apple): \")\n",
        "    output_file = input(\"Enter the name of the output CSV file (e.g., stock_data.csv): \")\n",
        "    fetch_interval = int(input(\"Enter the fetch interval in seconds (default 60): \") or 60)\n",
        "\n",
        "    stock_price_tracker(stock_symbol, output_file, fetch_interval)\n"
      ],
      "metadata": {
        "id": "yV9_zOEulQfE"
      },
      "execution_count": null,
      "outputs": []
    }
  ]
}